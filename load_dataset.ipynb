{
 "cells": [
  {
   "cell_type": "code",
   "execution_count": 3,
   "metadata": {},
   "outputs": [],
   "source": [
    "import csv\n",
    "reviews = []\n",
    "\n",
    "def load_review_category(filename):\n",
    "    with open(filename, encoding=\"utf8\") as fd:\n",
    "        rd = csv.reader(fd, delimiter=\"\\t\", quotechar='\"', quoting=csv.QUOTE_NONE)\n",
    "        counter = 0\n",
    "        for row in rd:\n",
    "            #Row 13 is the product review body.\n",
    "            if(counter > 5):\n",
    "                break\n",
    "            reviews.append(row[13])\n",
    "            counter+=1\n",
    "            print(counter)"
   ]
  },
  {
   "cell_type": "code",
   "execution_count": 11,
   "metadata": {},
   "outputs": [
    {
     "ename": "TypeError",
     "evalue": "'>' not supported between instances of 'list' and 'int'",
     "output_type": "error",
     "traceback": [
      "\u001b[1;31m---------------------------------------------------------------------------\u001b[0m",
      "\u001b[1;31mTypeError\u001b[0m                                 Traceback (most recent call last)",
      "\u001b[1;32m<ipython-input-11-a7ad783b172c>\u001b[0m in \u001b[0;36m<module>\u001b[1;34m()\u001b[0m\n\u001b[1;32m----> 1\u001b[1;33m \u001b[0mload_review_category\u001b[0m\u001b[1;33m(\u001b[0m\u001b[1;34m'D:/fyp-data/amazon_reviews/amazon_reviews_us_Gift_Card_v1_00.tsv'\u001b[0m\u001b[1;33m)\u001b[0m\u001b[1;33m\u001b[0m\u001b[0m\n\u001b[0m\u001b[0;32m      2\u001b[0m \u001b[0mload_review_category\u001b[0m\u001b[1;33m(\u001b[0m\u001b[1;34m'D:/fyp-data/amazon_reviews/amazon_reviews_us_Gift_Card_v1_00.tsv'\u001b[0m\u001b[1;33m)\u001b[0m\u001b[1;33m\u001b[0m\u001b[0m\n\u001b[0;32m      3\u001b[0m \u001b[0mload_review_category\u001b[0m\u001b[1;33m(\u001b[0m\u001b[1;34m'D:/fyp-data/amazon_reviews/amazon_reviews_us_Gift_Card_v1_00.tsv'\u001b[0m\u001b[1;33m)\u001b[0m\u001b[1;33m\u001b[0m\u001b[0m\n\u001b[0;32m      4\u001b[0m \u001b[0mload_review_category\u001b[0m\u001b[1;33m(\u001b[0m\u001b[1;34m'D:/fyp-data/amazon_reviews/amazon_reviews_us_Gift_Card_v1_00.tsv'\u001b[0m\u001b[1;33m)\u001b[0m\u001b[1;33m\u001b[0m\u001b[0m\n\u001b[0;32m      5\u001b[0m \u001b[0mload_review_category\u001b[0m\u001b[1;33m(\u001b[0m\u001b[1;34m'D:/fyp-data/amazon_reviews/amazon_reviews_us_Gift_Card_v1_00.tsv'\u001b[0m\u001b[1;33m)\u001b[0m\u001b[1;33m\u001b[0m\u001b[0m\n",
      "\u001b[1;32m<ipython-input-10-a2b146d039ae>\u001b[0m in \u001b[0;36mload_review_category\u001b[1;34m(filename)\u001b[0m\n\u001b[0;32m      7\u001b[0m         \u001b[1;32mfor\u001b[0m \u001b[0mrow\u001b[0m \u001b[1;32min\u001b[0m \u001b[0mrd\u001b[0m\u001b[1;33m:\u001b[0m\u001b[1;33m\u001b[0m\u001b[0m\n\u001b[0;32m      8\u001b[0m             \u001b[1;31m#Row 13 is the product review body.\u001b[0m\u001b[1;33m\u001b[0m\u001b[1;33m\u001b[0m\u001b[0m\n\u001b[1;32m----> 9\u001b[1;33m             \u001b[1;32mif\u001b[0m\u001b[1;33m(\u001b[0m\u001b[0mrow\u001b[0m \u001b[1;33m>\u001b[0m \u001b[1;36m5\u001b[0m\u001b[1;33m)\u001b[0m\u001b[1;33m:\u001b[0m\u001b[1;33m\u001b[0m\u001b[0m\n\u001b[0m\u001b[0;32m     10\u001b[0m                 \u001b[1;32mbreak\u001b[0m\u001b[1;33m\u001b[0m\u001b[0m\n\u001b[0;32m     11\u001b[0m             \u001b[0mreviews\u001b[0m\u001b[1;33m.\u001b[0m\u001b[0mappend\u001b[0m\u001b[1;33m(\u001b[0m\u001b[0mrow\u001b[0m\u001b[1;33m[\u001b[0m\u001b[1;36m13\u001b[0m\u001b[1;33m]\u001b[0m\u001b[1;33m)\u001b[0m\u001b[1;33m\u001b[0m\u001b[0m\n",
      "\u001b[1;31mTypeError\u001b[0m: '>' not supported between instances of 'list' and 'int'"
     ]
    }
   ],
   "source": [
    "load_review_category('D:/fyp-data/amazon_reviews/amazon_reviews_us_Gift_Card_v1_00.tsv')\n",
    "load_review_category('D:/fyp-data/amazon_reviews/amazon_reviews_us_Gift_Card_v1_00.tsv')\n",
    "load_review_category('D:/fyp-data/amazon_reviews/amazon_reviews_us_Gift_Card_v1_00.tsv')\n",
    "load_review_category('D:/fyp-data/amazon_reviews/amazon_reviews_us_Gift_Card_v1_00.tsv')\n",
    "load_review_category('D:/fyp-data/amazon_reviews/amazon_reviews_us_Gift_Card_v1_00.tsv')"
   ]
  },
  {
   "cell_type": "code",
   "execution_count": null,
   "metadata": {},
   "outputs": [],
   "source": [
    "reviews"
   ]
  },
  {
   "cell_type": "code",
   "execution_count": null,
   "metadata": {},
   "outputs": [],
   "source": []
  }
 ],
 "metadata": {
  "kernelspec": {
   "display_name": "Python 3",
   "language": "python",
   "name": "python3"
  },
  "language_info": {
   "codemirror_mode": {
    "name": "ipython",
    "version": 3
   },
   "file_extension": ".py",
   "mimetype": "text/x-python",
   "name": "python",
   "nbconvert_exporter": "python",
   "pygments_lexer": "ipython3",
   "version": "3.7.0"
  }
 },
 "nbformat": 4,
 "nbformat_minor": 2
}
