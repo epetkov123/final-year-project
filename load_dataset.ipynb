{
 "cells": [
  {
   "cell_type": "code",
   "execution_count": null,
   "metadata": {},
   "outputs": [],
   "source": [
    "#reviews = []\n",
    "def load_review_category(filename):\n",
    "    reviews = []\n",
    "    with open(filename, encoding=\"utf8\") as fd:\n",
    "        rd = csv.reader(fd, delimiter=\"\\t\", quotechar='\"', quoting=csv.QUOTE_NONE)\n",
    "        for row in rd:\n",
    "            #Row 13 is the product review body. Row 7 is the star rating.\n",
    "            review = []\n",
    "            review.append(row[13])\n",
    "            review.append(row[7])\n",
    "            reviews.append(review)\n",
    "    return np.asarray(reviews)"
   ]
  },
  {
   "cell_type": "code",
   "execution_count": null,
   "metadata": {},
   "outputs": [],
   "source": [
    "training_data = load_review_category('../fyp-data/amazon_reviews/amazon_reviews_us_Gift_Card_v1_00.tsv')"
   ]
  }
 ],
 "metadata": {
  "kernelspec": {
   "display_name": "Python 3",
   "language": "python",
   "name": "python3"
  },
  "language_info": {
   "codemirror_mode": {
    "name": "ipython",
    "version": 3
   },
   "file_extension": ".py",
   "mimetype": "text/x-python",
   "name": "python",
   "nbconvert_exporter": "python",
   "pygments_lexer": "ipython3",
   "version": "3.7.0"
  }
 },
 "nbformat": 4,
 "nbformat_minor": 2
}
